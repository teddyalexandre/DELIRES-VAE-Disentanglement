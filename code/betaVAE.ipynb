{
  "cells": [
    {
      "cell_type": "code",
      "execution_count": 6,
      "metadata": {
        "id": "HL1VP95QavE6"
      },
      "outputs": [],
      "source": [
        "import torch\n",
        "import torch.nn as nn\n",
        "import torch.nn.functional as F\n",
        "import torch.optim as optim\n",
        "import numpy as np\n",
        "from PIL import Image\n",
        "\n",
        "from torchvision import transforms\n",
        "from torch.utils.data import DataLoader, Dataset"
      ]
    },
    {
      "cell_type": "code",
      "execution_count": 4,
      "metadata": {
        "id": "DCl6HPhZavE8"
      },
      "outputs": [],
      "source": [
        "# Load dataset\n",
        "dataset_zip = np.load('/content/dsprites_ndarray_co1sh3sc6or40x32y32_64x64.npz', encoding='bytes')"
      ]
    },
    {
      "cell_type": "code",
      "source": [
        "class dSpritesDataset(Dataset):\n",
        "    def __init__(self, imgs, transform=None):\n",
        "        self.imgs = imgs\n",
        "        self.transform = transform\n",
        "\n",
        "    def __len__(self):\n",
        "        return len(self.imgs)\n",
        "\n",
        "    def __getitem__(self, idx):\n",
        "        img = self.imgs[idx]\n",
        "        if self.transform:\n",
        "            img = Image.fromarray(img)\n",
        "            img = self.transform(img)\n",
        "        return img\n",
        "\n",
        "transform = transforms.Compose([\n",
        "    transforms.ToTensor(),\n",
        "])\n",
        "\n",
        "imgs = dataset_zip['imgs']\n",
        "dsprites_dataset = dSpritesDataset(imgs, transform=transform)\n",
        "\n",
        "batch_size = 64\n",
        "data_loader = DataLoader(dsprites_dataset, batch_size=batch_size, shuffle=True)"
      ],
      "metadata": {
        "id": "4fae0n2GeLSX"
      },
      "execution_count": 7,
      "outputs": []
    },
    {
      "cell_type": "code",
      "source": [
        "# Hyperparameters\n",
        "\n",
        "z_dim = 6 # for dsprites dataset\n",
        "beta = 4\n",
        "learning_rate = 1e-4"
      ],
      "metadata": {
        "id": "2MFBATqTbnyn"
      },
      "execution_count": 9,
      "outputs": []
    },
    {
      "cell_type": "code",
      "source": [
        "class Encoder(nn.Module):\n",
        "    def __init__(self, z_dim, n_channels=1, n_filters=32):\n",
        "        super(Encoder, self).__init__()\n",
        "\n",
        "        self.n_filters = n_filters\n",
        "\n",
        "        self.conv1 = nn.Conv2d(n_channels, n_filters, kernel_size=4, stride=2, padding=1)\n",
        "        self.conv2 = nn.Conv2d(n_filters, n_filters, kernel_size=4, stride=2, padding=1)\n",
        "        self.conv3 = nn.Conv2d(n_filters, n_filters*2, kernel_size=4, stride=2, padding=1)\n",
        "        self.conv4 = nn.Conv2d(n_filters*2, n_filters*2, kernel_size=4, stride=2, padding=1)\n",
        "        self.fc = nn.Linear(4 * 4 * n_filters * 2, 128)\n",
        "        self.fc_mu = nn.Linear(128, z_dim)\n",
        "        self.fc_logvar = nn.Linear(128, z_dim)\n",
        "\n",
        "    def forward(self, x):\n",
        "        x = F.relu(self.conv1(x))\n",
        "        x = F.relu(self.conv2(x))\n",
        "        x = F.relu(self.conv3(x))\n",
        "        x = F.relu(self.conv4(x))\n",
        "        x = x.view(-1, 4 * 4 * self.n_filters * 2)\n",
        "        x = self.fc(x)\n",
        "        mu = self.fc_mu(x)\n",
        "        logvar = self.fc_logvar(x)\n",
        "        return mu, logvar\n",
        "\n",
        "\n",
        "class Decoder(nn.Module):\n",
        "    def __init__(self, z_dim, n_channels=1, n_filters=32):\n",
        "        super(Decoder, self).__init__()\n",
        "\n",
        "        self.n_filters = n_filters\n",
        "\n",
        "        self.fc1 = nn.Linear(z_dim, 128)\n",
        "        self.fc2 = nn.Linear(128, 4 * 4 * n_filters * 2)\n",
        "        self.conv1 = nn.ConvTranspose2d(n_filters * 2, n_filters * 2, kernel_size=4, stride=2, padding=1)\n",
        "        self.conv2 = nn.ConvTranspose2d(n_filters * 2, n_filters, kernel_size=4, stride=2, padding=1)\n",
        "        self.conv3 = nn.ConvTranspose2d(n_filters, n_filters, kernel_size=4, stride=2, padding=1)\n",
        "        self.conv4 = nn.ConvTranspose2d(n_filters, n_channels, kernel_size=4, stride=2, padding=1)\n",
        "\n",
        "    def forward(self, x):\n",
        "        x = F.relu(self.fc1(x))\n",
        "        x = F.relu(self.fc2(x))\n",
        "        x = x.view(-1, self.n_filters * 2, 4, 4)\n",
        "        x = F.relu(self.conv1(x))\n",
        "        x = F.relu(self.conv2(x))\n",
        "        x = F.relu(self.conv3(x))\n",
        "        x = self.conv4(x)\n",
        "        return x\n",
        "\n",
        "\n",
        "class BetaVAE(nn.Module):\n",
        "    def __init__(self, beta, z_dim):\n",
        "        super(BetaVAE, self).__init__()\n",
        "        self.encoder = Encoder(z_dim)\n",
        "        self.decoder = Decoder(z_dim)\n",
        "        self.beta = beta\n",
        "\n",
        "    def reparameterize(self, mu, log_var):\n",
        "        std = torch.exp(0.5 * log_var)\n",
        "        eps = torch.randn_like(std)\n",
        "        return mu + eps * std\n",
        "\n",
        "    def forward(self, x):\n",
        "        mu, log_var = self.encoder(x)\n",
        "        z = self.reparameterize(mu, log_var)\n",
        "        x_recon = self.decoder(z)\n",
        "        return x_recon, mu, log_var\n",
        "\n",
        "    def loss_function(self, x_recon, x, mu, log_var):\n",
        "        BCE = F.binary_cross_entropy_with_logits(x_recon, x, reduction='sum')\n",
        "        KLD = -0.5 * torch.sum(1 + log_var - mu.pow(2) - log_var.exp())\n",
        "        return BCE + self.beta * KLD"
      ],
      "metadata": {
        "id": "aJS7RaO61y7K"
      },
      "execution_count": 10,
      "outputs": []
    },
    {
      "cell_type": "code",
      "execution_count": null,
      "metadata": {
        "id": "j13sQgbuavE_"
      },
      "outputs": [],
      "source": [
        "# training phase\n",
        "device = torch.device(\"cuda\" if torch.cuda.is_available() else \"cpu\")\n",
        "model = BetaVAE(beta, z_dim).to(device)\n",
        "optimizer = optim.Adam(model.parameters(), lr=learning_rate)\n",
        "\n",
        "epochs = 10\n",
        "\n",
        "for epoch in range(epochs):\n",
        "    model.train()\n",
        "    train_loss = 0\n",
        "    for data in data_loader:\n",
        "        data = data.to(device)\n",
        "        recon_batch, mu, logvar = model(data)\n",
        "        loss = model.loss_function(recon_batch, data, mu, logvar)\n",
        "        optimizer.zero_grad()\n",
        "        loss.backward()\n",
        "        train_loss += loss.item()\n",
        "        optimizer.step()\n",
        "    print('====> Epoch: {} Average loss: {:.4f}'.format(epoch, train_loss / len(data_loader.dataset)))\n",
        "\n"
      ]
    }
  ],
  "metadata": {
    "kernelspec": {
      "display_name": "Python 3",
      "name": "python3"
    },
    "language_info": {
      "codemirror_mode": {
        "name": "ipython",
        "version": 3
      },
      "file_extension": ".py",
      "mimetype": "text/x-python",
      "name": "python",
      "nbconvert_exporter": "python",
      "pygments_lexer": "ipython3",
      "version": "3.10.12"
    },
    "colab": {
      "provenance": [],
      "gpuType": "T4"
    },
    "accelerator": "GPU"
  },
  "nbformat": 4,
  "nbformat_minor": 0
}